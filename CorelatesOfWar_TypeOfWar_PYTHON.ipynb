{
 "cells": [
  {
   "cell_type": "markdown",
   "metadata": {},
   "source": [
    "This is a small example of how to wrangle data."
   ]
  },
  {
   "cell_type": "code",
   "execution_count": 1,
   "metadata": {
    "collapsed": false
   },
   "outputs": [],
   "source": [
    "import pandas as pd\n",
    "import matplotlib as plt\n",
    "\n",
    "%matplotlib inline"
   ]
  },
  {
   "cell_type": "code",
   "execution_count": 2,
   "metadata": {
    "collapsed": false
   },
   "outputs": [
    {
     "name": "stdout",
     "output_type": "stream",
     "text": [
      "-rw-r--r--@ 1 purnima  staff    350610 May  8 14:04 ucdp-prio-acd-4-2016 (1).csv\r\n",
      "-rw-r--r--@ 1 purnima  staff    118484 May  8 14:04 ucdp-nonstate-25-2016.csv\r\n",
      "-rw-r--r--@ 1 purnima  staff    172719 May  8 14:04 ucdp-brd-conf-50-2016.csv\r\n",
      "-rw-r--r--  1 purnima  staff     58872 May  8 14:04 ucdp-onesided-14-2016.csv\r\n",
      "-rw-r--r--  1 purnima  staff     24510 May 13 19:18 MApbattleDeaths.csv\r\n",
      "-rw-r--r--  1 purnima  staff     40317 May 14 14:47 help4.csv\r\n",
      "-rw-r--r--@ 1 purnima  staff     40920 May 15 17:26 COWofwar.csv\r\n",
      "-rw-r--r--  1 purnima  staff     65810 May 20 17:11 MApbattleDeaths_new.csv\r\n",
      "-rw-r--r--  1 purnima  staff      9881 May 22 14:18 Global peace index - Sheet1.csv\r\n",
      "-rw-r--r--  1 purnima  staff     17013 May 22 14:30 GlobalPeaceIndex_new.csv\r\n",
      "-rw-r--r--  1 purnima  staff  20891524 May 24 12:33 globalterrorismdb_0616dist-Purnima.csv\r\n",
      "-rw-r--r--  1 purnima  staff     16705 May 24 18:40 GPI_growth.csv\r\n"
     ]
    }
   ],
   "source": [
    "ls -lrt *.csv"
   ]
  },
  {
   "cell_type": "code",
   "execution_count": 3,
   "metadata": {
    "collapsed": false,
    "scrolled": false
   },
   "outputs": [
    {
     "data": {
      "text/html": [
       "<div>\n",
       "<table border=\"1\" class=\"dataframe\">\n",
       "  <thead>\n",
       "    <tr style=\"text-align: right;\">\n",
       "      <th></th>\n",
       "      <th>Year</th>\n",
       "      <th>War Name</th>\n",
       "      <th>War Type &amp; Number</th>\n",
       "    </tr>\n",
       "  </thead>\n",
       "  <tbody>\n",
       "    <tr>\n",
       "      <th>0</th>\n",
       "      <td>1816</td>\n",
       "      <td>Allied Bombardment of Algiers of 1816</td>\n",
       "      <td>Extra-State War #300</td>\n",
       "    </tr>\n",
       "    <tr>\n",
       "      <th>1</th>\n",
       "      <td>1816</td>\n",
       "      <td>Ottoman-Wahhabi Revolt of 1816-1818</td>\n",
       "      <td>Extra-State War #301</td>\n",
       "    </tr>\n",
       "    <tr>\n",
       "      <th>2</th>\n",
       "      <td>1817</td>\n",
       "      <td>Liberation of Chile of 1817-1818</td>\n",
       "      <td>Extra-State War #302</td>\n",
       "    </tr>\n",
       "    <tr>\n",
       "      <th>3</th>\n",
       "      <td>1817</td>\n",
       "      <td>First Bolivar Expedition of 1817-1819</td>\n",
       "      <td>Extra-State War #303</td>\n",
       "    </tr>\n",
       "    <tr>\n",
       "      <th>4</th>\n",
       "      <td>1817</td>\n",
       "      <td>War of Mexican Independence of 1817-1818</td>\n",
       "      <td>Extra-State War #304</td>\n",
       "    </tr>\n",
       "  </tbody>\n",
       "</table>\n",
       "</div>"
      ],
      "text/plain": [
       "   Year                                    War Name      War Type & Number \n",
       "0   1816      Allied Bombardment of Algiers of 1816   Extra-State War #300 \n",
       "1   1816        Ottoman-Wahhabi Revolt of 1816-1818   Extra-State War #301 \n",
       "2   1817           Liberation of Chile of 1817-1818   Extra-State War #302 \n",
       "3   1817      First Bolivar Expedition of 1817-1819   Extra-State War #303 \n",
       "4   1817   War of Mexican Independence of 1817-1818   Extra-State War #304 "
      ]
     },
     "execution_count": 3,
     "metadata": {},
     "output_type": "execute_result"
    }
   ],
   "source": [
    "file1 = pd.read_csv('COWofwar.csv')\n",
    "file1.head()"
   ]
  },
  {
   "cell_type": "code",
   "execution_count": 4,
   "metadata": {
    "collapsed": false
   },
   "outputs": [
    {
     "data": {
      "text/html": [
       "<div>\n",
       "<table border=\"1\" class=\"dataframe\">\n",
       "  <thead>\n",
       "    <tr style=\"text-align: right;\">\n",
       "      <th></th>\n",
       "      <th>Year</th>\n",
       "      <th>War Name</th>\n",
       "      <th>TEST</th>\n",
       "    </tr>\n",
       "  </thead>\n",
       "  <tbody>\n",
       "    <tr>\n",
       "      <th>0</th>\n",
       "      <td>1816</td>\n",
       "      <td>Allied Bombardment of Algiers of 1816</td>\n",
       "      <td>Extra-State War #300</td>\n",
       "    </tr>\n",
       "    <tr>\n",
       "      <th>1</th>\n",
       "      <td>1816</td>\n",
       "      <td>Ottoman-Wahhabi Revolt of 1816-1818</td>\n",
       "      <td>Extra-State War #301</td>\n",
       "    </tr>\n",
       "    <tr>\n",
       "      <th>2</th>\n",
       "      <td>1817</td>\n",
       "      <td>Liberation of Chile of 1817-1818</td>\n",
       "      <td>Extra-State War #302</td>\n",
       "    </tr>\n",
       "    <tr>\n",
       "      <th>3</th>\n",
       "      <td>1817</td>\n",
       "      <td>First Bolivar Expedition of 1817-1819</td>\n",
       "      <td>Extra-State War #303</td>\n",
       "    </tr>\n",
       "    <tr>\n",
       "      <th>4</th>\n",
       "      <td>1817</td>\n",
       "      <td>War of Mexican Independence of 1817-1818</td>\n",
       "      <td>Extra-State War #304</td>\n",
       "    </tr>\n",
       "  </tbody>\n",
       "</table>\n",
       "</div>"
      ],
      "text/plain": [
       "   Year                                    War Name                    TEST\n",
       "0   1816      Allied Bombardment of Algiers of 1816   Extra-State War #300 \n",
       "1   1816        Ottoman-Wahhabi Revolt of 1816-1818   Extra-State War #301 \n",
       "2   1817           Liberation of Chile of 1817-1818   Extra-State War #302 \n",
       "3   1817      First Bolivar Expedition of 1817-1819   Extra-State War #303 \n",
       "4   1817   War of Mexican Independence of 1817-1818   Extra-State War #304 "
      ]
     },
     "execution_count": 4,
     "metadata": {},
     "output_type": "execute_result"
    }
   ],
   "source": [
    "file1.rename(columns={\"War Type & Number \":\"TEST\"}, inplace=True)\n",
    "\n",
    "file1.head()"
   ]
  },
  {
   "cell_type": "code",
   "execution_count": 5,
   "metadata": {
    "collapsed": false,
    "scrolled": true
   },
   "outputs": [
    {
     "data": {
      "text/html": [
       "<div>\n",
       "<table border=\"1\" class=\"dataframe\">\n",
       "  <thead>\n",
       "    <tr style=\"text-align: right;\">\n",
       "      <th></th>\n",
       "      <th>Year</th>\n",
       "      <th>War Name</th>\n",
       "      <th>TEST</th>\n",
       "      <th>Col1</th>\n",
       "      <th>col2</th>\n",
       "    </tr>\n",
       "  </thead>\n",
       "  <tbody>\n",
       "    <tr>\n",
       "      <th>0</th>\n",
       "      <td>1816</td>\n",
       "      <td>Allied Bombardment of Algiers of 1816</td>\n",
       "      <td>Extra-State War #300</td>\n",
       "      <td>Extra-State War</td>\n",
       "      <td>300</td>\n",
       "    </tr>\n",
       "    <tr>\n",
       "      <th>1</th>\n",
       "      <td>1816</td>\n",
       "      <td>Ottoman-Wahhabi Revolt of 1816-1818</td>\n",
       "      <td>Extra-State War #301</td>\n",
       "      <td>Extra-State War</td>\n",
       "      <td>301</td>\n",
       "    </tr>\n",
       "    <tr>\n",
       "      <th>2</th>\n",
       "      <td>1817</td>\n",
       "      <td>Liberation of Chile of 1817-1818</td>\n",
       "      <td>Extra-State War #302</td>\n",
       "      <td>Extra-State War</td>\n",
       "      <td>302</td>\n",
       "    </tr>\n",
       "    <tr>\n",
       "      <th>3</th>\n",
       "      <td>1817</td>\n",
       "      <td>First Bolivar Expedition of 1817-1819</td>\n",
       "      <td>Extra-State War #303</td>\n",
       "      <td>Extra-State War</td>\n",
       "      <td>303</td>\n",
       "    </tr>\n",
       "    <tr>\n",
       "      <th>4</th>\n",
       "      <td>1817</td>\n",
       "      <td>War of Mexican Independence of 1817-1818</td>\n",
       "      <td>Extra-State War #304</td>\n",
       "      <td>Extra-State War</td>\n",
       "      <td>304</td>\n",
       "    </tr>\n",
       "  </tbody>\n",
       "</table>\n",
       "</div>"
      ],
      "text/plain": [
       "   Year                                    War Name                    TEST  \\\n",
       "0   1816      Allied Bombardment of Algiers of 1816   Extra-State War #300    \n",
       "1   1816        Ottoman-Wahhabi Revolt of 1816-1818   Extra-State War #301    \n",
       "2   1817           Liberation of Chile of 1817-1818   Extra-State War #302    \n",
       "3   1817      First Bolivar Expedition of 1817-1819   Extra-State War #303    \n",
       "4   1817   War of Mexican Independence of 1817-1818   Extra-State War #304    \n",
       "\n",
       "               Col1  col2  \n",
       "0  Extra-State War   300   \n",
       "1  Extra-State War   301   \n",
       "2  Extra-State War   302   \n",
       "3  Extra-State War   303   \n",
       "4  Extra-State War   304   "
      ]
     },
     "execution_count": 5,
     "metadata": {},
     "output_type": "execute_result"
    }
   ],
   "source": [
    "file1['Col1'], file1['col2']= zip(*file1['TEST'].map(lambda x: x.split('#')))\n",
    "file1.head()"
   ]
  },
  {
   "cell_type": "code",
   "execution_count": 6,
   "metadata": {
    "collapsed": false
   },
   "outputs": [
    {
     "data": {
      "text/html": [
       "<div>\n",
       "<table border=\"1\" class=\"dataframe\">\n",
       "  <thead>\n",
       "    <tr style=\"text-align: right;\">\n",
       "      <th></th>\n",
       "      <th>Year</th>\n",
       "      <th>War Name</th>\n",
       "      <th>TEST</th>\n",
       "      <th>Col1</th>\n",
       "      <th>col2</th>\n",
       "    </tr>\n",
       "  </thead>\n",
       "  <tbody>\n",
       "    <tr>\n",
       "      <th>0</th>\n",
       "      <td>1816</td>\n",
       "      <td>Allied Bombardment of Algiers of 1816</td>\n",
       "      <td>Extra-State War #300</td>\n",
       "      <td>Extra-State War</td>\n",
       "      <td>300</td>\n",
       "    </tr>\n",
       "    <tr>\n",
       "      <th>1</th>\n",
       "      <td>1816</td>\n",
       "      <td>Ottoman-Wahhabi Revolt of 1816-1818</td>\n",
       "      <td>Extra-State War #301</td>\n",
       "      <td>Extra-State War</td>\n",
       "      <td>301</td>\n",
       "    </tr>\n",
       "    <tr>\n",
       "      <th>2</th>\n",
       "      <td>1817</td>\n",
       "      <td>Liberation of Chile of 1817-1818</td>\n",
       "      <td>Extra-State War #302</td>\n",
       "      <td>Extra-State War</td>\n",
       "      <td>302</td>\n",
       "    </tr>\n",
       "    <tr>\n",
       "      <th>3</th>\n",
       "      <td>1817</td>\n",
       "      <td>First Bolivar Expedition of 1817-1819</td>\n",
       "      <td>Extra-State War #303</td>\n",
       "      <td>Extra-State War</td>\n",
       "      <td>303</td>\n",
       "    </tr>\n",
       "    <tr>\n",
       "      <th>4</th>\n",
       "      <td>1817</td>\n",
       "      <td>War of Mexican Independence of 1817-1818</td>\n",
       "      <td>Extra-State War #304</td>\n",
       "      <td>Extra-State War</td>\n",
       "      <td>304</td>\n",
       "    </tr>\n",
       "  </tbody>\n",
       "</table>\n",
       "</div>"
      ],
      "text/plain": [
       "   Year                                    War Name                    TEST  \\\n",
       "0   1816      Allied Bombardment of Algiers of 1816   Extra-State War #300    \n",
       "1   1816        Ottoman-Wahhabi Revolt of 1816-1818   Extra-State War #301    \n",
       "2   1817           Liberation of Chile of 1817-1818   Extra-State War #302    \n",
       "3   1817      First Bolivar Expedition of 1817-1819   Extra-State War #303    \n",
       "4   1817   War of Mexican Independence of 1817-1818   Extra-State War #304    \n",
       "\n",
       "               Col1  col2  \n",
       "0  Extra-State War   300   \n",
       "1  Extra-State War   301   \n",
       "2  Extra-State War   302   \n",
       "3  Extra-State War   303   \n",
       "4  Extra-State War   304   "
      ]
     },
     "execution_count": 6,
     "metadata": {},
     "output_type": "execute_result"
    }
   ],
   "source": [
    "file1.head()"
   ]
  },
  {
   "cell_type": "code",
   "execution_count": 7,
   "metadata": {
    "collapsed": false
   },
   "outputs": [
    {
     "data": {
      "text/html": [
       "<div>\n",
       "<table border=\"1\" class=\"dataframe\">\n",
       "  <thead>\n",
       "    <tr style=\"text-align: right;\">\n",
       "      <th></th>\n",
       "      <th>Year</th>\n",
       "      <th>War Name</th>\n",
       "      <th>War_id</th>\n",
       "      <th>Type of war</th>\n",
       "      <th>col2</th>\n",
       "    </tr>\n",
       "  </thead>\n",
       "  <tbody>\n",
       "    <tr>\n",
       "      <th>0</th>\n",
       "      <td>1816</td>\n",
       "      <td>Allied Bombardment of Algiers of 1816</td>\n",
       "      <td>Extra-State War #300</td>\n",
       "      <td>Extra-State War</td>\n",
       "      <td>300</td>\n",
       "    </tr>\n",
       "    <tr>\n",
       "      <th>1</th>\n",
       "      <td>1816</td>\n",
       "      <td>Ottoman-Wahhabi Revolt of 1816-1818</td>\n",
       "      <td>Extra-State War #301</td>\n",
       "      <td>Extra-State War</td>\n",
       "      <td>301</td>\n",
       "    </tr>\n",
       "    <tr>\n",
       "      <th>2</th>\n",
       "      <td>1817</td>\n",
       "      <td>Liberation of Chile of 1817-1818</td>\n",
       "      <td>Extra-State War #302</td>\n",
       "      <td>Extra-State War</td>\n",
       "      <td>302</td>\n",
       "    </tr>\n",
       "    <tr>\n",
       "      <th>3</th>\n",
       "      <td>1817</td>\n",
       "      <td>First Bolivar Expedition of 1817-1819</td>\n",
       "      <td>Extra-State War #303</td>\n",
       "      <td>Extra-State War</td>\n",
       "      <td>303</td>\n",
       "    </tr>\n",
       "    <tr>\n",
       "      <th>4</th>\n",
       "      <td>1817</td>\n",
       "      <td>War of Mexican Independence of 1817-1818</td>\n",
       "      <td>Extra-State War #304</td>\n",
       "      <td>Extra-State War</td>\n",
       "      <td>304</td>\n",
       "    </tr>\n",
       "  </tbody>\n",
       "</table>\n",
       "</div>"
      ],
      "text/plain": [
       "   Year                                    War Name                  War_id  \\\n",
       "0   1816      Allied Bombardment of Algiers of 1816   Extra-State War #300    \n",
       "1   1816        Ottoman-Wahhabi Revolt of 1816-1818   Extra-State War #301    \n",
       "2   1817           Liberation of Chile of 1817-1818   Extra-State War #302    \n",
       "3   1817      First Bolivar Expedition of 1817-1819   Extra-State War #303    \n",
       "4   1817   War of Mexican Independence of 1817-1818   Extra-State War #304    \n",
       "\n",
       "        Type of war  col2  \n",
       "0  Extra-State War   300   \n",
       "1  Extra-State War   301   \n",
       "2  Extra-State War   302   \n",
       "3  Extra-State War   303   \n",
       "4  Extra-State War   304   "
      ]
     },
     "execution_count": 7,
     "metadata": {},
     "output_type": "execute_result"
    }
   ],
   "source": [
    "file2=file1.rename(columns={'Col1': 'Type of war', 'TEST': 'War_id'}, inplace=False)\n",
    "file2.head()"
   ]
  },
  {
   "cell_type": "code",
   "execution_count": 8,
   "metadata": {
    "collapsed": false
   },
   "outputs": [],
   "source": [
    "file2.usecols= [0,1,2,3,4]"
   ]
  },
  {
   "cell_type": "code",
   "execution_count": 9,
   "metadata": {
    "collapsed": false
   },
   "outputs": [
    {
     "data": {
      "text/html": [
       "<div>\n",
       "<table border=\"1\" class=\"dataframe\">\n",
       "  <thead>\n",
       "    <tr style=\"text-align: right;\">\n",
       "      <th></th>\n",
       "      <th>Year</th>\n",
       "      <th>War Name</th>\n",
       "      <th>War_id</th>\n",
       "      <th>Type of war</th>\n",
       "      <th>col2</th>\n",
       "    </tr>\n",
       "  </thead>\n",
       "  <tbody>\n",
       "    <tr>\n",
       "      <th>0</th>\n",
       "      <td>1816</td>\n",
       "      <td>Allied Bombardment of Algiers of 1816</td>\n",
       "      <td>Extra-State War #300</td>\n",
       "      <td>Extra-State War</td>\n",
       "      <td>300</td>\n",
       "    </tr>\n",
       "    <tr>\n",
       "      <th>1</th>\n",
       "      <td>1816</td>\n",
       "      <td>Ottoman-Wahhabi Revolt of 1816-1818</td>\n",
       "      <td>Extra-State War #301</td>\n",
       "      <td>Extra-State War</td>\n",
       "      <td>301</td>\n",
       "    </tr>\n",
       "    <tr>\n",
       "      <th>2</th>\n",
       "      <td>1817</td>\n",
       "      <td>Liberation of Chile of 1817-1818</td>\n",
       "      <td>Extra-State War #302</td>\n",
       "      <td>Extra-State War</td>\n",
       "      <td>302</td>\n",
       "    </tr>\n",
       "    <tr>\n",
       "      <th>3</th>\n",
       "      <td>1817</td>\n",
       "      <td>First Bolivar Expedition of 1817-1819</td>\n",
       "      <td>Extra-State War #303</td>\n",
       "      <td>Extra-State War</td>\n",
       "      <td>303</td>\n",
       "    </tr>\n",
       "    <tr>\n",
       "      <th>4</th>\n",
       "      <td>1817</td>\n",
       "      <td>War of Mexican Independence of 1817-1818</td>\n",
       "      <td>Extra-State War #304</td>\n",
       "      <td>Extra-State War</td>\n",
       "      <td>304</td>\n",
       "    </tr>\n",
       "  </tbody>\n",
       "</table>\n",
       "</div>"
      ],
      "text/plain": [
       "   Year                                    War Name                  War_id  \\\n",
       "0   1816      Allied Bombardment of Algiers of 1816   Extra-State War #300    \n",
       "1   1816        Ottoman-Wahhabi Revolt of 1816-1818   Extra-State War #301    \n",
       "2   1817           Liberation of Chile of 1817-1818   Extra-State War #302    \n",
       "3   1817      First Bolivar Expedition of 1817-1819   Extra-State War #303    \n",
       "4   1817   War of Mexican Independence of 1817-1818   Extra-State War #304    \n",
       "\n",
       "        Type of war  col2  \n",
       "0  Extra-State War   300   \n",
       "1  Extra-State War   301   \n",
       "2  Extra-State War   302   \n",
       "3  Extra-State War   303   \n",
       "4  Extra-State War   304   "
      ]
     },
     "execution_count": 9,
     "metadata": {},
     "output_type": "execute_result"
    }
   ],
   "source": [
    "file2.head()"
   ]
  },
  {
   "cell_type": "code",
   "execution_count": 10,
   "metadata": {
    "collapsed": false
   },
   "outputs": [
    {
     "data": {
      "text/html": [
       "<div>\n",
       "<table border=\"1\" class=\"dataframe\">\n",
       "  <thead>\n",
       "    <tr style=\"text-align: right;\">\n",
       "      <th></th>\n",
       "      <th>Year</th>\n",
       "      <th>War Name</th>\n",
       "      <th>War_id</th>\n",
       "      <th>Type of war</th>\n",
       "    </tr>\n",
       "  </thead>\n",
       "  <tbody>\n",
       "    <tr>\n",
       "      <th>0</th>\n",
       "      <td>1816</td>\n",
       "      <td>Allied Bombardment of Algiers of 1816</td>\n",
       "      <td>Extra-State War #300</td>\n",
       "      <td>Extra-State War</td>\n",
       "    </tr>\n",
       "    <tr>\n",
       "      <th>1</th>\n",
       "      <td>1816</td>\n",
       "      <td>Ottoman-Wahhabi Revolt of 1816-1818</td>\n",
       "      <td>Extra-State War #301</td>\n",
       "      <td>Extra-State War</td>\n",
       "    </tr>\n",
       "    <tr>\n",
       "      <th>2</th>\n",
       "      <td>1817</td>\n",
       "      <td>Liberation of Chile of 1817-1818</td>\n",
       "      <td>Extra-State War #302</td>\n",
       "      <td>Extra-State War</td>\n",
       "    </tr>\n",
       "    <tr>\n",
       "      <th>3</th>\n",
       "      <td>1817</td>\n",
       "      <td>First Bolivar Expedition of 1817-1819</td>\n",
       "      <td>Extra-State War #303</td>\n",
       "      <td>Extra-State War</td>\n",
       "    </tr>\n",
       "    <tr>\n",
       "      <th>4</th>\n",
       "      <td>1817</td>\n",
       "      <td>War of Mexican Independence of 1817-1818</td>\n",
       "      <td>Extra-State War #304</td>\n",
       "      <td>Extra-State War</td>\n",
       "    </tr>\n",
       "  </tbody>\n",
       "</table>\n",
       "</div>"
      ],
      "text/plain": [
       "   Year                                    War Name                  War_id  \\\n",
       "0   1816      Allied Bombardment of Algiers of 1816   Extra-State War #300    \n",
       "1   1816        Ottoman-Wahhabi Revolt of 1816-1818   Extra-State War #301    \n",
       "2   1817           Liberation of Chile of 1817-1818   Extra-State War #302    \n",
       "3   1817      First Bolivar Expedition of 1817-1819   Extra-State War #303    \n",
       "4   1817   War of Mexican Independence of 1817-1818   Extra-State War #304    \n",
       "\n",
       "        Type of war  \n",
       "0  Extra-State War   \n",
       "1  Extra-State War   \n",
       "2  Extra-State War   \n",
       "3  Extra-State War   \n",
       "4  Extra-State War   "
      ]
     },
     "execution_count": 10,
     "metadata": {},
     "output_type": "execute_result"
    }
   ],
   "source": [
    "file3=file2.drop('col2',axis=1)\n",
    "file3.head()"
   ]
  },
  {
   "cell_type": "code",
   "execution_count": 11,
   "metadata": {
    "collapsed": false
   },
   "outputs": [],
   "source": [
    "file3.to_csv('COWOfWar_new.csv', sep= ';')"
   ]
  },
  {
   "cell_type": "code",
   "execution_count": null,
   "metadata": {
    "collapsed": false
   },
   "outputs": [],
   "source": []
  },
  {
   "cell_type": "code",
   "execution_count": null,
   "metadata": {
    "collapsed": false
   },
   "outputs": [],
   "source": []
  },
  {
   "cell_type": "code",
   "execution_count": null,
   "metadata": {
    "collapsed": false
   },
   "outputs": [],
   "source": []
  },
  {
   "cell_type": "code",
   "execution_count": null,
   "metadata": {
    "collapsed": false
   },
   "outputs": [],
   "source": []
  },
  {
   "cell_type": "code",
   "execution_count": null,
   "metadata": {
    "collapsed": true
   },
   "outputs": [],
   "source": []
  },
  {
   "cell_type": "code",
   "execution_count": null,
   "metadata": {
    "collapsed": false
   },
   "outputs": [],
   "source": [
    "\n"
   ]
  },
  {
   "cell_type": "code",
   "execution_count": null,
   "metadata": {
    "collapsed": false
   },
   "outputs": [],
   "source": []
  },
  {
   "cell_type": "code",
   "execution_count": null,
   "metadata": {
    "collapsed": false
   },
   "outputs": [],
   "source": []
  },
  {
   "cell_type": "code",
   "execution_count": null,
   "metadata": {
    "collapsed": false
   },
   "outputs": [],
   "source": []
  },
  {
   "cell_type": "code",
   "execution_count": null,
   "metadata": {
    "collapsed": true
   },
   "outputs": [],
   "source": []
  }
 ],
 "metadata": {
  "kernelspec": {
   "display_name": "Python 3",
   "language": "python",
   "name": "python3"
  },
  "language_info": {
   "codemirror_mode": {
    "name": "ipython",
    "version": 3
   },
   "file_extension": ".py",
   "mimetype": "text/x-python",
   "name": "python",
   "nbconvert_exporter": "python",
   "pygments_lexer": "ipython3",
   "version": "3.6.0"
  }
 },
 "nbformat": 4,
 "nbformat_minor": 2
}
