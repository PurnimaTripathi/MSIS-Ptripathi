{
 "cells": [
  {
   "cell_type": "markdown",
   "metadata": {},
   "source": [
    "This is a small example of how to wrangle data."
   ]
  },
  {
   "cell_type": "code",
   "execution_count": 1,
   "metadata": {
    "collapsed": false
   },
   "outputs": [],
   "source": [
    "import pandas as pd\n",
    "import matplotlib as plt\n",
    "\n",
    "%matplotlib inline"
   ]
  },
  {
   "cell_type": "code",
   "execution_count": 3,
   "metadata": {
    "collapsed": false,
    "scrolled": true
   },
   "outputs": [
    {
     "name": "stdout",
     "output_type": "stream",
     "text": [
      "-rw-r--r--@ 1 purnima  staff    350610 May  8 14:04 ucdp-prio-acd-4-2016 (1).csv\r\n",
      "-rw-r--r--@ 1 purnima  staff    118484 May  8 14:04 ucdp-nonstate-25-2016.csv\r\n",
      "-rw-r--r--@ 1 purnima  staff    172719 May  8 14:04 ucdp-brd-conf-50-2016.csv\r\n",
      "-rw-r--r--  1 purnima  staff     58872 May  8 14:04 ucdp-onesided-14-2016.csv\r\n",
      "-rw-r--r--  1 purnima  staff     24510 May 13 19:18 MApbattleDeaths.csv\r\n",
      "-rw-r--r--  1 purnima  staff     40317 May 14 14:47 help4.csv\r\n",
      "-rw-r--r--@ 1 purnima  staff     40920 May 15 17:26 COWofwar.csv\r\n",
      "-rw-r--r--  1 purnima  staff     65810 May 20 17:11 MApbattleDeaths_new.csv\r\n",
      "-rw-r--r--  1 purnima  staff      9881 May 22 14:18 Global peace index - Sheet1.csv\r\n",
      "-rw-r--r--  1 purnima  staff     17013 May 22 14:30 GlobalPeaceIndex_new.csv\r\n",
      "-rw-r--r--  1 purnima  staff  20891524 May 24 12:33 globalterrorismdb_0616dist-Purnima.csv\r\n"
     ]
    }
   ],
   "source": [
    "ls -lrt *.csv\n"
   ]
  },
  {
   "cell_type": "code",
   "execution_count": 6,
   "metadata": {
    "collapsed": false,
    "scrolled": false
   },
   "outputs": [
    {
     "data": {
      "text/html": [
       "<div>\n",
       "<table border=\"1\" class=\"dataframe\">\n",
       "  <thead>\n",
       "    <tr style=\"text-align: right;\">\n",
       "      <th></th>\n",
       "      <th>country</th>\n",
       "      <th>score_2008</th>\n",
       "      <th>score_2009</th>\n",
       "      <th>score_2010</th>\n",
       "      <th>score_2011</th>\n",
       "      <th>score_2012</th>\n",
       "      <th>score_2013</th>\n",
       "      <th>score_2014</th>\n",
       "      <th>score_2015</th>\n",
       "      <th>score_2016</th>\n",
       "    </tr>\n",
       "  </thead>\n",
       "  <tbody>\n",
       "    <tr>\n",
       "      <th>0</th>\n",
       "      <td>Iceland</td>\n",
       "      <td>1.107</td>\n",
       "      <td>1.203</td>\n",
       "      <td>1.212</td>\n",
       "      <td>1.148</td>\n",
       "      <td>1.113</td>\n",
       "      <td>1.162</td>\n",
       "      <td>1.189</td>\n",
       "      <td>1.148</td>\n",
       "      <td>1.192</td>\n",
       "    </tr>\n",
       "    <tr>\n",
       "      <th>1</th>\n",
       "      <td>Denmark</td>\n",
       "      <td>1.238</td>\n",
       "      <td>1.263</td>\n",
       "      <td>1.341</td>\n",
       "      <td>1.289</td>\n",
       "      <td>1.239</td>\n",
       "      <td>1.207</td>\n",
       "      <td>1.193</td>\n",
       "      <td>1.150</td>\n",
       "      <td>1.246</td>\n",
       "    </tr>\n",
       "    <tr>\n",
       "      <th>2</th>\n",
       "      <td>Austria</td>\n",
       "      <td>1.291</td>\n",
       "      <td>1.240</td>\n",
       "      <td>1.290</td>\n",
       "      <td>1.337</td>\n",
       "      <td>1.328</td>\n",
       "      <td>1.250</td>\n",
       "      <td>1.200</td>\n",
       "      <td>1.198</td>\n",
       "      <td>1.278</td>\n",
       "    </tr>\n",
       "    <tr>\n",
       "      <th>3</th>\n",
       "      <td>New Zealand</td>\n",
       "      <td>1.190</td>\n",
       "      <td>1.227</td>\n",
       "      <td>1.188</td>\n",
       "      <td>1.279</td>\n",
       "      <td>1.239</td>\n",
       "      <td>1.237</td>\n",
       "      <td>1.236</td>\n",
       "      <td>1.221</td>\n",
       "      <td>1.287</td>\n",
       "    </tr>\n",
       "    <tr>\n",
       "      <th>4</th>\n",
       "      <td>Portugal</td>\n",
       "      <td>1.385</td>\n",
       "      <td>1.426</td>\n",
       "      <td>1.366</td>\n",
       "      <td>1.453</td>\n",
       "      <td>1.470</td>\n",
       "      <td>1.467</td>\n",
       "      <td>1.425</td>\n",
       "      <td>1.344</td>\n",
       "      <td>1.356</td>\n",
       "    </tr>\n",
       "  </tbody>\n",
       "</table>\n",
       "</div>"
      ],
      "text/plain": [
       "       country  score_2008  score_2009  score_2010  score_2011  score_2012  \\\n",
       "0      Iceland       1.107       1.203       1.212       1.148       1.113   \n",
       "1      Denmark       1.238       1.263       1.341       1.289       1.239   \n",
       "2      Austria       1.291       1.240       1.290       1.337       1.328   \n",
       "3  New Zealand       1.190       1.227       1.188       1.279       1.239   \n",
       "4     Portugal       1.385       1.426       1.366       1.453       1.470   \n",
       "\n",
       "   score_2013  score_2014  score_2015  score_2016  \n",
       "0       1.162       1.189       1.148       1.192  \n",
       "1       1.207       1.193       1.150       1.246  \n",
       "2       1.250       1.200       1.198       1.278  \n",
       "3       1.237       1.236       1.221       1.287  \n",
       "4       1.467       1.425       1.344       1.356  "
      ]
     },
     "execution_count": 6,
     "metadata": {},
     "output_type": "execute_result"
    }
   ],
   "source": [
    "New = pd.read_csv('Global peace index - Sheet1.csv')\n",
    "New.head()"
   ]
  },
  {
   "cell_type": "code",
   "execution_count": 10,
   "metadata": {
    "collapsed": false,
    "scrolled": true
   },
   "outputs": [],
   "source": [
    "New[\"growth_rate\"] = ((New[\"score_2016\"] - New[\"score_2008\"])/New[\"score_2008\"])*100"
   ]
  },
  {
   "cell_type": "code",
   "execution_count": 11,
   "metadata": {
    "collapsed": false
   },
   "outputs": [
    {
     "data": {
      "text/html": [
       "<div>\n",
       "<table border=\"1\" class=\"dataframe\">\n",
       "  <thead>\n",
       "    <tr style=\"text-align: right;\">\n",
       "      <th></th>\n",
       "      <th>country</th>\n",
       "      <th>score_2008</th>\n",
       "      <th>score_2009</th>\n",
       "      <th>score_2010</th>\n",
       "      <th>score_2011</th>\n",
       "      <th>score_2012</th>\n",
       "      <th>score_2013</th>\n",
       "      <th>score_2014</th>\n",
       "      <th>score_2015</th>\n",
       "      <th>score_2016</th>\n",
       "      <th>growth_rate</th>\n",
       "    </tr>\n",
       "  </thead>\n",
       "  <tbody>\n",
       "    <tr>\n",
       "      <th>0</th>\n",
       "      <td>Iceland</td>\n",
       "      <td>1.107</td>\n",
       "      <td>1.203</td>\n",
       "      <td>1.212</td>\n",
       "      <td>1.148</td>\n",
       "      <td>1.113</td>\n",
       "      <td>1.162</td>\n",
       "      <td>1.189</td>\n",
       "      <td>1.148</td>\n",
       "      <td>1.192</td>\n",
       "      <td>7.678410</td>\n",
       "    </tr>\n",
       "    <tr>\n",
       "      <th>1</th>\n",
       "      <td>Denmark</td>\n",
       "      <td>1.238</td>\n",
       "      <td>1.263</td>\n",
       "      <td>1.341</td>\n",
       "      <td>1.289</td>\n",
       "      <td>1.239</td>\n",
       "      <td>1.207</td>\n",
       "      <td>1.193</td>\n",
       "      <td>1.150</td>\n",
       "      <td>1.246</td>\n",
       "      <td>0.646204</td>\n",
       "    </tr>\n",
       "    <tr>\n",
       "      <th>2</th>\n",
       "      <td>Austria</td>\n",
       "      <td>1.291</td>\n",
       "      <td>1.240</td>\n",
       "      <td>1.290</td>\n",
       "      <td>1.337</td>\n",
       "      <td>1.328</td>\n",
       "      <td>1.250</td>\n",
       "      <td>1.200</td>\n",
       "      <td>1.198</td>\n",
       "      <td>1.278</td>\n",
       "      <td>-1.006971</td>\n",
       "    </tr>\n",
       "    <tr>\n",
       "      <th>3</th>\n",
       "      <td>New Zealand</td>\n",
       "      <td>1.190</td>\n",
       "      <td>1.227</td>\n",
       "      <td>1.188</td>\n",
       "      <td>1.279</td>\n",
       "      <td>1.239</td>\n",
       "      <td>1.237</td>\n",
       "      <td>1.236</td>\n",
       "      <td>1.221</td>\n",
       "      <td>1.287</td>\n",
       "      <td>8.151261</td>\n",
       "    </tr>\n",
       "    <tr>\n",
       "      <th>4</th>\n",
       "      <td>Portugal</td>\n",
       "      <td>1.385</td>\n",
       "      <td>1.426</td>\n",
       "      <td>1.366</td>\n",
       "      <td>1.453</td>\n",
       "      <td>1.470</td>\n",
       "      <td>1.467</td>\n",
       "      <td>1.425</td>\n",
       "      <td>1.344</td>\n",
       "      <td>1.356</td>\n",
       "      <td>-2.093863</td>\n",
       "    </tr>\n",
       "  </tbody>\n",
       "</table>\n",
       "</div>"
      ],
      "text/plain": [
       "       country  score_2008  score_2009  score_2010  score_2011  score_2012  \\\n",
       "0      Iceland       1.107       1.203       1.212       1.148       1.113   \n",
       "1      Denmark       1.238       1.263       1.341       1.289       1.239   \n",
       "2      Austria       1.291       1.240       1.290       1.337       1.328   \n",
       "3  New Zealand       1.190       1.227       1.188       1.279       1.239   \n",
       "4     Portugal       1.385       1.426       1.366       1.453       1.470   \n",
       "\n",
       "   score_2013  score_2014  score_2015  score_2016  growth_rate  \n",
       "0       1.162       1.189       1.148       1.192     7.678410  \n",
       "1       1.207       1.193       1.150       1.246     0.646204  \n",
       "2       1.250       1.200       1.198       1.278    -1.006971  \n",
       "3       1.237       1.236       1.221       1.287     8.151261  \n",
       "4       1.467       1.425       1.344       1.356    -2.093863  "
      ]
     },
     "execution_count": 11,
     "metadata": {},
     "output_type": "execute_result"
    }
   ],
   "source": [
    "New.head(5)"
   ]
  },
  {
   "cell_type": "code",
   "execution_count": 13,
   "metadata": {
    "collapsed": false
   },
   "outputs": [],
   "source": [
    "New.to_csv('GPI_growth.csv', sep= ';')"
   ]
  },
  {
   "cell_type": "code",
   "execution_count": null,
   "metadata": {
    "collapsed": false
   },
   "outputs": [],
   "source": []
  },
  {
   "cell_type": "code",
   "execution_count": null,
   "metadata": {
    "collapsed": false
   },
   "outputs": [],
   "source": []
  },
  {
   "cell_type": "code",
   "execution_count": null,
   "metadata": {
    "collapsed": false
   },
   "outputs": [],
   "source": []
  },
  {
   "cell_type": "code",
   "execution_count": null,
   "metadata": {
    "collapsed": false
   },
   "outputs": [],
   "source": []
  },
  {
   "cell_type": "code",
   "execution_count": null,
   "metadata": {
    "collapsed": false
   },
   "outputs": [],
   "source": []
  },
  {
   "cell_type": "code",
   "execution_count": null,
   "metadata": {
    "collapsed": false
   },
   "outputs": [],
   "source": []
  },
  {
   "cell_type": "code",
   "execution_count": null,
   "metadata": {
    "collapsed": false
   },
   "outputs": [],
   "source": []
  },
  {
   "cell_type": "code",
   "execution_count": null,
   "metadata": {
    "collapsed": false
   },
   "outputs": [],
   "source": []
  },
  {
   "cell_type": "code",
   "execution_count": null,
   "metadata": {
    "collapsed": false
   },
   "outputs": [],
   "source": []
  },
  {
   "cell_type": "code",
   "execution_count": null,
   "metadata": {
    "collapsed": true
   },
   "outputs": [],
   "source": []
  },
  {
   "cell_type": "code",
   "execution_count": null,
   "metadata": {
    "collapsed": false
   },
   "outputs": [],
   "source": [
    "\n"
   ]
  },
  {
   "cell_type": "code",
   "execution_count": null,
   "metadata": {
    "collapsed": false
   },
   "outputs": [],
   "source": []
  },
  {
   "cell_type": "code",
   "execution_count": null,
   "metadata": {
    "collapsed": false
   },
   "outputs": [],
   "source": []
  },
  {
   "cell_type": "code",
   "execution_count": null,
   "metadata": {
    "collapsed": false
   },
   "outputs": [],
   "source": []
  },
  {
   "cell_type": "code",
   "execution_count": null,
   "metadata": {
    "collapsed": true
   },
   "outputs": [],
   "source": []
  }
 ],
 "metadata": {
  "kernelspec": {
   "display_name": "Python 3",
   "language": "python",
   "name": "python3"
  },
  "language_info": {
   "codemirror_mode": {
    "name": "ipython",
    "version": 3
   },
   "file_extension": ".py",
   "mimetype": "text/x-python",
   "name": "python",
   "nbconvert_exporter": "python",
   "pygments_lexer": "ipython3",
   "version": "3.6.0"
  }
 },
 "nbformat": 4,
 "nbformat_minor": 2
}
