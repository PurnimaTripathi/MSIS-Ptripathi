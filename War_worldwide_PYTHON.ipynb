{
 "cells": [
  {
   "cell_type": "markdown",
   "metadata": {},
   "source": [
    "This is a small example of how to wrangle data."
   ]
  },
  {
   "cell_type": "code",
   "execution_count": 1,
   "metadata": {
    "collapsed": false
   },
   "outputs": [],
   "source": [
    "import pandas as pd\n",
    "import matplotlib as plt\n",
    "\n",
    "%matplotlib inline"
   ]
  },
  {
   "cell_type": "code",
   "execution_count": 2,
   "metadata": {
    "collapsed": false
   },
   "outputs": [
    {
     "name": "stdout",
     "output_type": "stream",
     "text": [
      "-rw-r--r--@ 1 purnima  staff  350610 May  8 14:04 ucdp-prio-acd-4-2016 (1).csv\r\n",
      "-rw-r--r--@ 1 purnima  staff  118484 May  8 14:04 ucdp-nonstate-25-2016.csv\r\n",
      "-rw-r--r--@ 1 purnima  staff  172719 May  8 14:04 ucdp-brd-conf-50-2016.csv\r\n",
      "-rw-r--r--  1 purnima  staff   58872 May  8 14:04 ucdp-onesided-14-2016.csv\r\n",
      "-rw-r--r--  1 purnima  staff   24510 May 13 19:18 MApbattleDeaths.csv\r\n",
      "-rw-r--r--  1 purnima  staff   40317 May 14 14:47 help4.csv\r\n",
      "-rw-r--r--@ 1 purnima  staff   40920 May 15 17:26 COWofwar.csv\r\n"
     ]
    }
   ],
   "source": [
    "ls -lrt *.csv"
   ]
  },
  {
   "cell_type": "code",
   "execution_count": 3,
   "metadata": {
    "collapsed": false,
    "scrolled": false
   },
   "outputs": [
    {
     "data": {
      "text/html": [
       "<div>\n",
       "<table border=\"1\" class=\"dataframe\">\n",
       "  <thead>\n",
       "    <tr style=\"text-align: right;\">\n",
       "      <th></th>\n",
       "      <th>ConflictID</th>\n",
       "      <th>DyadID</th>\n",
       "      <th>Year</th>\n",
       "      <th>LocationInc</th>\n",
       "      <th>SideA</th>\n",
       "      <th>SideA2nd</th>\n",
       "      <th>SideB</th>\n",
       "      <th>SideBID</th>\n",
       "      <th>SideB2nd</th>\n",
       "      <th>Incompatibility</th>\n",
       "      <th>...</th>\n",
       "      <th>TypeOfConflict</th>\n",
       "      <th>BattleLocation</th>\n",
       "      <th>GWNoA</th>\n",
       "      <th>GWNoA2nd</th>\n",
       "      <th>GwNoB</th>\n",
       "      <th>GWNoB2nd</th>\n",
       "      <th>GWNoLoc</th>\n",
       "      <th>GWNoBattle</th>\n",
       "      <th>Region</th>\n",
       "      <th>Version</th>\n",
       "    </tr>\n",
       "  </thead>\n",
       "  <tbody>\n",
       "    <tr>\n",
       "      <th>0</th>\n",
       "      <td>6</td>\n",
       "      <td>260</td>\n",
       "      <td>1993</td>\n",
       "      <td>Iran</td>\n",
       "      <td>Government of Iran</td>\n",
       "      <td>NaN</td>\n",
       "      <td>KDPI</td>\n",
       "      <td>1005</td>\n",
       "      <td>NaN</td>\n",
       "      <td>1</td>\n",
       "      <td>...</td>\n",
       "      <td>3</td>\n",
       "      <td>Iran, Iraq</td>\n",
       "      <td>630</td>\n",
       "      <td>NaN</td>\n",
       "      <td>NaN</td>\n",
       "      <td>NaN</td>\n",
       "      <td>630</td>\n",
       "      <td>630, 645</td>\n",
       "      <td>2</td>\n",
       "      <td>5</td>\n",
       "    </tr>\n",
       "    <tr>\n",
       "      <th>1</th>\n",
       "      <td>6</td>\n",
       "      <td>260</td>\n",
       "      <td>1996</td>\n",
       "      <td>Iran</td>\n",
       "      <td>Government of Iran</td>\n",
       "      <td>NaN</td>\n",
       "      <td>KDPI</td>\n",
       "      <td>1005</td>\n",
       "      <td>NaN</td>\n",
       "      <td>1</td>\n",
       "      <td>...</td>\n",
       "      <td>3</td>\n",
       "      <td>Iran, Iraq</td>\n",
       "      <td>630</td>\n",
       "      <td>NaN</td>\n",
       "      <td>NaN</td>\n",
       "      <td>NaN</td>\n",
       "      <td>630</td>\n",
       "      <td>630, 645</td>\n",
       "      <td>2</td>\n",
       "      <td>5</td>\n",
       "    </tr>\n",
       "    <tr>\n",
       "      <th>2</th>\n",
       "      <td>6</td>\n",
       "      <td>260</td>\n",
       "      <td>1990</td>\n",
       "      <td>Iran</td>\n",
       "      <td>Government of Iran</td>\n",
       "      <td>NaN</td>\n",
       "      <td>KDPI</td>\n",
       "      <td>1005</td>\n",
       "      <td>NaN</td>\n",
       "      <td>1</td>\n",
       "      <td>...</td>\n",
       "      <td>3</td>\n",
       "      <td>Iran</td>\n",
       "      <td>630</td>\n",
       "      <td>NaN</td>\n",
       "      <td>NaN</td>\n",
       "      <td>NaN</td>\n",
       "      <td>630</td>\n",
       "      <td>630</td>\n",
       "      <td>2</td>\n",
       "      <td>5</td>\n",
       "    </tr>\n",
       "    <tr>\n",
       "      <th>3</th>\n",
       "      <td>10</td>\n",
       "      <td>217, 220</td>\n",
       "      <td>1989</td>\n",
       "      <td>Philippines</td>\n",
       "      <td>Government of Philippines</td>\n",
       "      <td>NaN</td>\n",
       "      <td>CPP, Military faction (forces of Honasan, Aben...</td>\n",
       "      <td>1010, 1011</td>\n",
       "      <td>NaN</td>\n",
       "      <td>2</td>\n",
       "      <td>...</td>\n",
       "      <td>3</td>\n",
       "      <td>Philippines</td>\n",
       "      <td>840</td>\n",
       "      <td>NaN</td>\n",
       "      <td>NaN</td>\n",
       "      <td>NaN</td>\n",
       "      <td>840</td>\n",
       "      <td>840</td>\n",
       "      <td>3</td>\n",
       "      <td>5</td>\n",
       "    </tr>\n",
       "    <tr>\n",
       "      <th>4</th>\n",
       "      <td>10</td>\n",
       "      <td>217, 220</td>\n",
       "      <td>1990</td>\n",
       "      <td>Philippines</td>\n",
       "      <td>Government of Philippines</td>\n",
       "      <td>NaN</td>\n",
       "      <td>CPP, Military faction (forces of Honasan, Aben...</td>\n",
       "      <td>1010, 1011</td>\n",
       "      <td>NaN</td>\n",
       "      <td>2</td>\n",
       "      <td>...</td>\n",
       "      <td>3</td>\n",
       "      <td>Philippines</td>\n",
       "      <td>840</td>\n",
       "      <td>NaN</td>\n",
       "      <td>NaN</td>\n",
       "      <td>NaN</td>\n",
       "      <td>840</td>\n",
       "      <td>840</td>\n",
       "      <td>3</td>\n",
       "      <td>5</td>\n",
       "    </tr>\n",
       "  </tbody>\n",
       "</table>\n",
       "<p>5 rows × 24 columns</p>\n",
       "</div>"
      ],
      "text/plain": [
       "   ConflictID    DyadID  Year  LocationInc                      SideA  \\\n",
       "0           6       260  1993         Iran         Government of Iran   \n",
       "1           6       260  1996         Iran         Government of Iran   \n",
       "2           6       260  1990         Iran         Government of Iran   \n",
       "3          10  217, 220  1989  Philippines  Government of Philippines   \n",
       "4          10  217, 220  1990  Philippines  Government of Philippines   \n",
       "\n",
       "  SideA2nd                                              SideB     SideBID  \\\n",
       "0      NaN                                               KDPI        1005   \n",
       "1      NaN                                               KDPI        1005   \n",
       "2      NaN                                               KDPI        1005   \n",
       "3      NaN  CPP, Military faction (forces of Honasan, Aben...  1010, 1011   \n",
       "4      NaN  CPP, Military faction (forces of Honasan, Aben...  1010, 1011   \n",
       "\n",
       "  SideB2nd  Incompatibility   ...   TypeOfConflict  BattleLocation  GWNoA  \\\n",
       "0      NaN                1   ...                3      Iran, Iraq    630   \n",
       "1      NaN                1   ...                3      Iran, Iraq    630   \n",
       "2      NaN                1   ...                3            Iran    630   \n",
       "3      NaN                2   ...                3     Philippines    840   \n",
       "4      NaN                2   ...                3     Philippines    840   \n",
       "\n",
       "   GWNoA2nd GwNoB GWNoB2nd GWNoLoc GWNoBattle Region Version  \n",
       "0       NaN   NaN      NaN     630   630, 645      2       5  \n",
       "1       NaN   NaN      NaN     630   630, 645      2       5  \n",
       "2       NaN   NaN      NaN     630        630      2       5  \n",
       "3       NaN   NaN      NaN     840        840      3       5  \n",
       "4       NaN   NaN      NaN     840        840      3       5  \n",
       "\n",
       "[5 rows x 24 columns]"
      ]
     },
     "execution_count": 3,
     "metadata": {},
     "output_type": "execute_result"
    }
   ],
   "source": [
    "file1 = pd.read_csv('ucdp-brd-conf-50-2016.csv')\n",
    "file1.head()"
   ]
  },
  {
   "cell_type": "code",
   "execution_count": 18,
   "metadata": {
    "collapsed": false,
    "scrolled": true
   },
   "outputs": [
    {
     "data": {
      "text/html": [
       "<div>\n",
       "<table border=\"1\" class=\"dataframe\">\n",
       "  <thead>\n",
       "    <tr style=\"text-align: right;\">\n",
       "      <th></th>\n",
       "      <th>Year</th>\n",
       "      <th>SideA</th>\n",
       "      <th>SideB</th>\n",
       "      <th>BdBest</th>\n",
       "      <th>BattleLocation</th>\n",
       "    </tr>\n",
       "  </thead>\n",
       "  <tbody>\n",
       "    <tr>\n",
       "      <th>0</th>\n",
       "      <td>1993</td>\n",
       "      <td>Government of Iran</td>\n",
       "      <td>KDPI</td>\n",
       "      <td>110</td>\n",
       "      <td>Iran, Iraq</td>\n",
       "    </tr>\n",
       "    <tr>\n",
       "      <th>1</th>\n",
       "      <td>1996</td>\n",
       "      <td>Government of Iran</td>\n",
       "      <td>KDPI</td>\n",
       "      <td>27</td>\n",
       "      <td>Iran, Iraq</td>\n",
       "    </tr>\n",
       "    <tr>\n",
       "      <th>2</th>\n",
       "      <td>1990</td>\n",
       "      <td>Government of Iran</td>\n",
       "      <td>KDPI</td>\n",
       "      <td>31</td>\n",
       "      <td>Iran</td>\n",
       "    </tr>\n",
       "    <tr>\n",
       "      <th>3</th>\n",
       "      <td>1989</td>\n",
       "      <td>Government of Philippines</td>\n",
       "      <td>CPP, Military faction (forces of Honasan, Aben...</td>\n",
       "      <td>822</td>\n",
       "      <td>Philippines</td>\n",
       "    </tr>\n",
       "    <tr>\n",
       "      <th>4</th>\n",
       "      <td>1990</td>\n",
       "      <td>Government of Philippines</td>\n",
       "      <td>CPP, Military faction (forces of Honasan, Aben...</td>\n",
       "      <td>1165</td>\n",
       "      <td>Philippines</td>\n",
       "    </tr>\n",
       "  </tbody>\n",
       "</table>\n",
       "</div>"
      ],
      "text/plain": [
       "   Year                      SideA  \\\n",
       "0  1993         Government of Iran   \n",
       "1  1996         Government of Iran   \n",
       "2  1990         Government of Iran   \n",
       "3  1989  Government of Philippines   \n",
       "4  1990  Government of Philippines   \n",
       "\n",
       "                                               SideB  BdBest BattleLocation  \n",
       "0                                               KDPI     110     Iran, Iraq  \n",
       "1                                               KDPI      27     Iran, Iraq  \n",
       "2                                               KDPI      31           Iran  \n",
       "3  CPP, Military faction (forces of Honasan, Aben...     822    Philippines  \n",
       "4  CPP, Military faction (forces of Honasan, Aben...    1165    Philippines  "
      ]
     },
     "execution_count": 18,
     "metadata": {},
     "output_type": "execute_result"
    }
   ],
   "source": [
    "battleDeaths = pd.read_csv(filepath_or_buffer='ucdp-brd-conf-50-2016.csv', usecols= [2,4,6,11,15,])\n",
    "battleDeaths.head()\n",
    "                           "
   ]
  },
  {
   "cell_type": "code",
   "execution_count": 25,
   "metadata": {
    "collapsed": false
   },
   "outputs": [],
   "source": [
    "battleDeaths_new= battleDeaths.rename(columns={'BdBest': 'No. of Deaths', 'BattleLocation': 'Location of war'}, inplace=False)"
   ]
  },
  {
   "cell_type": "code",
   "execution_count": 26,
   "metadata": {
    "collapsed": false
   },
   "outputs": [
    {
     "data": {
      "text/html": [
       "<div>\n",
       "<table border=\"1\" class=\"dataframe\">\n",
       "  <thead>\n",
       "    <tr style=\"text-align: right;\">\n",
       "      <th></th>\n",
       "      <th>Year</th>\n",
       "      <th>SideA</th>\n",
       "      <th>SideB</th>\n",
       "      <th>No. of Deaths</th>\n",
       "      <th>Location of war</th>\n",
       "    </tr>\n",
       "  </thead>\n",
       "  <tbody>\n",
       "    <tr>\n",
       "      <th>0</th>\n",
       "      <td>1993</td>\n",
       "      <td>Government of Iran</td>\n",
       "      <td>KDPI</td>\n",
       "      <td>110</td>\n",
       "      <td>Iran, Iraq</td>\n",
       "    </tr>\n",
       "    <tr>\n",
       "      <th>1</th>\n",
       "      <td>1996</td>\n",
       "      <td>Government of Iran</td>\n",
       "      <td>KDPI</td>\n",
       "      <td>27</td>\n",
       "      <td>Iran, Iraq</td>\n",
       "    </tr>\n",
       "    <tr>\n",
       "      <th>2</th>\n",
       "      <td>1990</td>\n",
       "      <td>Government of Iran</td>\n",
       "      <td>KDPI</td>\n",
       "      <td>31</td>\n",
       "      <td>Iran</td>\n",
       "    </tr>\n",
       "    <tr>\n",
       "      <th>3</th>\n",
       "      <td>1989</td>\n",
       "      <td>Government of Philippines</td>\n",
       "      <td>CPP, Military faction (forces of Honasan, Aben...</td>\n",
       "      <td>822</td>\n",
       "      <td>Philippines</td>\n",
       "    </tr>\n",
       "    <tr>\n",
       "      <th>4</th>\n",
       "      <td>1990</td>\n",
       "      <td>Government of Philippines</td>\n",
       "      <td>CPP, Military faction (forces of Honasan, Aben...</td>\n",
       "      <td>1165</td>\n",
       "      <td>Philippines</td>\n",
       "    </tr>\n",
       "  </tbody>\n",
       "</table>\n",
       "</div>"
      ],
      "text/plain": [
       "   Year                      SideA  \\\n",
       "0  1993         Government of Iran   \n",
       "1  1996         Government of Iran   \n",
       "2  1990         Government of Iran   \n",
       "3  1989  Government of Philippines   \n",
       "4  1990  Government of Philippines   \n",
       "\n",
       "                                               SideB  No. of Deaths  \\\n",
       "0                                               KDPI            110   \n",
       "1                                               KDPI             27   \n",
       "2                                               KDPI             31   \n",
       "3  CPP, Military faction (forces of Honasan, Aben...            822   \n",
       "4  CPP, Military faction (forces of Honasan, Aben...           1165   \n",
       "\n",
       "  Location of war  \n",
       "0      Iran, Iraq  \n",
       "1      Iran, Iraq  \n",
       "2            Iran  \n",
       "3     Philippines  \n",
       "4     Philippines  "
      ]
     },
     "execution_count": 26,
     "metadata": {},
     "output_type": "execute_result"
    }
   ],
   "source": [
    "battleDeaths_new.head()"
   ]
  },
  {
   "cell_type": "code",
   "execution_count": 28,
   "metadata": {
    "collapsed": false
   },
   "outputs": [],
   "source": [
    "battleDeaths_new.to_csv('MApbattleDeaths_new.csv', sep= ';')"
   ]
  },
  {
   "cell_type": "code",
   "execution_count": null,
   "metadata": {
    "collapsed": false
   },
   "outputs": [],
   "source": []
  },
  {
   "cell_type": "code",
   "execution_count": null,
   "metadata": {
    "collapsed": false
   },
   "outputs": [],
   "source": []
  },
  {
   "cell_type": "code",
   "execution_count": null,
   "metadata": {
    "collapsed": false
   },
   "outputs": [],
   "source": []
  },
  {
   "cell_type": "code",
   "execution_count": null,
   "metadata": {
    "collapsed": false
   },
   "outputs": [],
   "source": []
  },
  {
   "cell_type": "code",
   "execution_count": null,
   "metadata": {
    "collapsed": false
   },
   "outputs": [],
   "source": []
  },
  {
   "cell_type": "code",
   "execution_count": null,
   "metadata": {
    "collapsed": false
   },
   "outputs": [],
   "source": []
  },
  {
   "cell_type": "code",
   "execution_count": null,
   "metadata": {
    "collapsed": false
   },
   "outputs": [],
   "source": []
  },
  {
   "cell_type": "code",
   "execution_count": null,
   "metadata": {
    "collapsed": false
   },
   "outputs": [],
   "source": []
  },
  {
   "cell_type": "code",
   "execution_count": null,
   "metadata": {
    "collapsed": true
   },
   "outputs": [],
   "source": []
  },
  {
   "cell_type": "code",
   "execution_count": null,
   "metadata": {
    "collapsed": false
   },
   "outputs": [],
   "source": [
    "\n"
   ]
  },
  {
   "cell_type": "code",
   "execution_count": null,
   "metadata": {
    "collapsed": false
   },
   "outputs": [],
   "source": []
  },
  {
   "cell_type": "code",
   "execution_count": null,
   "metadata": {
    "collapsed": false
   },
   "outputs": [],
   "source": []
  },
  {
   "cell_type": "code",
   "execution_count": null,
   "metadata": {
    "collapsed": false
   },
   "outputs": [],
   "source": []
  },
  {
   "cell_type": "code",
   "execution_count": null,
   "metadata": {
    "collapsed": true
   },
   "outputs": [],
   "source": []
  }
 ],
 "metadata": {
  "kernelspec": {
   "display_name": "Python 3",
   "language": "python",
   "name": "python3"
  },
  "language_info": {
   "codemirror_mode": {
    "name": "ipython",
    "version": 3
   },
   "file_extension": ".py",
   "mimetype": "text/x-python",
   "name": "python",
   "nbconvert_exporter": "python",
   "pygments_lexer": "ipython3",
   "version": "3.6.0"
  }
 },
 "nbformat": 4,
 "nbformat_minor": 2
}
